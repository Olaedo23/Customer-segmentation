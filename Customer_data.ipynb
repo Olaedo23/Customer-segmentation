{
 "cells": [
  {
   "cell_type": "code",
   "execution_count": 1,
   "metadata": {},
   "outputs": [
    {
     "name": "stderr",
     "output_type": "stream",
     "text": [
      "Matplotlib is building the font cache; this may take a moment.\n"
     ]
    }
   ],
   "source": [
    "import pandas as pd\n",
    "import seaborn as sns\n",
    "import matplotlib.pyplot as plt\n",
    "import numpy as np\n",
    "\n",
    "#importing necessary libraries for this analysis"
   ]
  },
  {
   "cell_type": "code",
   "execution_count": 3,
   "metadata": {},
   "outputs": [],
   "source": [
    "#loading our dataset into this workbook\n",
    "Sd= pd.read_csv(r'C:\\Users\\USER\\Customer-segmentation\\segmentation_data.csv')\n"
   ]
  },
  {
   "cell_type": "code",
   "execution_count": 5,
   "metadata": {},
   "outputs": [
    {
     "data": {
      "text/html": [
       "<div>\n",
       "<style scoped>\n",
       "    .dataframe tbody tr th:only-of-type {\n",
       "        vertical-align: middle;\n",
       "    }\n",
       "\n",
       "    .dataframe tbody tr th {\n",
       "        vertical-align: top;\n",
       "    }\n",
       "\n",
       "    .dataframe thead th {\n",
       "        text-align: right;\n",
       "    }\n",
       "</style>\n",
       "<table border=\"1\" class=\"dataframe\">\n",
       "  <thead>\n",
       "    <tr style=\"text-align: right;\">\n",
       "      <th></th>\n",
       "      <th>ID</th>\n",
       "      <th>Sex</th>\n",
       "      <th>Marital status</th>\n",
       "      <th>Age</th>\n",
       "      <th>Education</th>\n",
       "      <th>Income</th>\n",
       "      <th>Occupation</th>\n",
       "      <th>Settlement size</th>\n",
       "    </tr>\n",
       "  </thead>\n",
       "  <tbody>\n",
       "    <tr>\n",
       "      <th>0</th>\n",
       "      <td>100000001</td>\n",
       "      <td>0</td>\n",
       "      <td>0</td>\n",
       "      <td>67</td>\n",
       "      <td>2</td>\n",
       "      <td>124670</td>\n",
       "      <td>1</td>\n",
       "      <td>2</td>\n",
       "    </tr>\n",
       "    <tr>\n",
       "      <th>1</th>\n",
       "      <td>100000002</td>\n",
       "      <td>1</td>\n",
       "      <td>1</td>\n",
       "      <td>22</td>\n",
       "      <td>1</td>\n",
       "      <td>150773</td>\n",
       "      <td>1</td>\n",
       "      <td>2</td>\n",
       "    </tr>\n",
       "    <tr>\n",
       "      <th>2</th>\n",
       "      <td>100000003</td>\n",
       "      <td>0</td>\n",
       "      <td>0</td>\n",
       "      <td>49</td>\n",
       "      <td>1</td>\n",
       "      <td>89210</td>\n",
       "      <td>0</td>\n",
       "      <td>0</td>\n",
       "    </tr>\n",
       "    <tr>\n",
       "      <th>3</th>\n",
       "      <td>100000004</td>\n",
       "      <td>0</td>\n",
       "      <td>0</td>\n",
       "      <td>45</td>\n",
       "      <td>1</td>\n",
       "      <td>171565</td>\n",
       "      <td>1</td>\n",
       "      <td>1</td>\n",
       "    </tr>\n",
       "    <tr>\n",
       "      <th>4</th>\n",
       "      <td>100000005</td>\n",
       "      <td>0</td>\n",
       "      <td>0</td>\n",
       "      <td>53</td>\n",
       "      <td>1</td>\n",
       "      <td>149031</td>\n",
       "      <td>1</td>\n",
       "      <td>1</td>\n",
       "    </tr>\n",
       "    <tr>\n",
       "      <th>...</th>\n",
       "      <td>...</td>\n",
       "      <td>...</td>\n",
       "      <td>...</td>\n",
       "      <td>...</td>\n",
       "      <td>...</td>\n",
       "      <td>...</td>\n",
       "      <td>...</td>\n",
       "      <td>...</td>\n",
       "    </tr>\n",
       "    <tr>\n",
       "      <th>1995</th>\n",
       "      <td>100001996</td>\n",
       "      <td>1</td>\n",
       "      <td>0</td>\n",
       "      <td>47</td>\n",
       "      <td>1</td>\n",
       "      <td>123525</td>\n",
       "      <td>0</td>\n",
       "      <td>0</td>\n",
       "    </tr>\n",
       "    <tr>\n",
       "      <th>1996</th>\n",
       "      <td>100001997</td>\n",
       "      <td>1</td>\n",
       "      <td>1</td>\n",
       "      <td>27</td>\n",
       "      <td>1</td>\n",
       "      <td>117744</td>\n",
       "      <td>1</td>\n",
       "      <td>0</td>\n",
       "    </tr>\n",
       "    <tr>\n",
       "      <th>1997</th>\n",
       "      <td>100001998</td>\n",
       "      <td>0</td>\n",
       "      <td>0</td>\n",
       "      <td>31</td>\n",
       "      <td>0</td>\n",
       "      <td>86400</td>\n",
       "      <td>0</td>\n",
       "      <td>0</td>\n",
       "    </tr>\n",
       "    <tr>\n",
       "      <th>1998</th>\n",
       "      <td>100001999</td>\n",
       "      <td>1</td>\n",
       "      <td>1</td>\n",
       "      <td>24</td>\n",
       "      <td>1</td>\n",
       "      <td>97968</td>\n",
       "      <td>0</td>\n",
       "      <td>0</td>\n",
       "    </tr>\n",
       "    <tr>\n",
       "      <th>1999</th>\n",
       "      <td>100002000</td>\n",
       "      <td>0</td>\n",
       "      <td>0</td>\n",
       "      <td>25</td>\n",
       "      <td>0</td>\n",
       "      <td>68416</td>\n",
       "      <td>0</td>\n",
       "      <td>0</td>\n",
       "    </tr>\n",
       "  </tbody>\n",
       "</table>\n",
       "<p>2000 rows × 8 columns</p>\n",
       "</div>"
      ],
      "text/plain": [
       "             ID  Sex  Marital status  Age  Education  Income  Occupation  \\\n",
       "0     100000001    0               0   67          2  124670           1   \n",
       "1     100000002    1               1   22          1  150773           1   \n",
       "2     100000003    0               0   49          1   89210           0   \n",
       "3     100000004    0               0   45          1  171565           1   \n",
       "4     100000005    0               0   53          1  149031           1   \n",
       "...         ...  ...             ...  ...        ...     ...         ...   \n",
       "1995  100001996    1               0   47          1  123525           0   \n",
       "1996  100001997    1               1   27          1  117744           1   \n",
       "1997  100001998    0               0   31          0   86400           0   \n",
       "1998  100001999    1               1   24          1   97968           0   \n",
       "1999  100002000    0               0   25          0   68416           0   \n",
       "\n",
       "      Settlement size  \n",
       "0                   2  \n",
       "1                   2  \n",
       "2                   0  \n",
       "3                   1  \n",
       "4                   1  \n",
       "...               ...  \n",
       "1995                0  \n",
       "1996                0  \n",
       "1997                0  \n",
       "1998                0  \n",
       "1999                0  \n",
       "\n",
       "[2000 rows x 8 columns]"
      ]
     },
     "execution_count": 5,
     "metadata": {},
     "output_type": "execute_result"
    }
   ],
   "source": [
    "Sd"
   ]
  },
  {
   "cell_type": "markdown",
   "metadata": {},
   "source": [
    "### Cleaning the Data\n",
    "Handling outliers, missing values and any inconsistencies in the dataset."
   ]
  },
  {
   "cell_type": "code",
   "execution_count": 9,
   "metadata": {},
   "outputs": [
    {
     "name": "stdout",
     "output_type": "stream",
     "text": [
      "ID                 0\n",
      "Sex                0\n",
      "Marital status     0\n",
      "Age                0\n",
      "Education          0\n",
      "Income             0\n",
      "Occupation         0\n",
      "Settlement size    0\n",
      "dtype: int64\n"
     ]
    }
   ],
   "source": [
    "#Checking our dataset for any missing values\n",
    "print(Sd.isnull().sum())\n"
   ]
  },
  {
   "cell_type": "markdown",
   "metadata": {},
   "source": [
    "### Exploratory Data Analysis\n",
    "Understanding the structure of the data and visualising important features."
   ]
  },
  {
   "cell_type": "code",
   "execution_count": 7,
   "metadata": {},
   "outputs": [
    {
     "name": "stdout",
     "output_type": "stream",
     "text": [
      "                 ID          Sex  Marital status          Age   Education  \\\n",
      "count  2.000000e+03  2000.000000     2000.000000  2000.000000  2000.00000   \n",
      "mean   1.000010e+08     0.457000        0.496500    35.909000     1.03800   \n",
      "std    5.774946e+02     0.498272        0.500113    11.719402     0.59978   \n",
      "min    1.000000e+08     0.000000        0.000000    18.000000     0.00000   \n",
      "25%    1.000005e+08     0.000000        0.000000    27.000000     1.00000   \n",
      "50%    1.000010e+08     0.000000        0.000000    33.000000     1.00000   \n",
      "75%    1.000015e+08     1.000000        1.000000    42.000000     1.00000   \n",
      "max    1.000020e+08     1.000000        1.000000    76.000000     3.00000   \n",
      "\n",
      "              Income   Occupation  Settlement size  \n",
      "count    2000.000000  2000.000000      2000.000000  \n",
      "mean   120954.419000     0.810500         0.739000  \n",
      "std     38108.824679     0.638587         0.812533  \n",
      "min     35832.000000     0.000000         0.000000  \n",
      "25%     97663.250000     0.000000         0.000000  \n",
      "50%    115548.500000     1.000000         1.000000  \n",
      "75%    138072.250000     1.000000         1.000000  \n",
      "max    309364.000000     2.000000         2.000000  \n"
     ]
    }
   ],
   "source": [
    "#summary statistics of the dataset\n",
    "print(Sd.describe())\n",
    "\n"
   ]
  },
  {
   "cell_type": "code",
   "execution_count": 8,
   "metadata": {},
   "outputs": [
    {
     "name": "stdout",
     "output_type": "stream",
     "text": [
      "<class 'pandas.core.frame.DataFrame'>\n",
      "RangeIndex: 2000 entries, 0 to 1999\n",
      "Data columns (total 8 columns):\n",
      " #   Column           Non-Null Count  Dtype\n",
      "---  ------           --------------  -----\n",
      " 0   ID               2000 non-null   int64\n",
      " 1   Sex              2000 non-null   int64\n",
      " 2   Marital status   2000 non-null   int64\n",
      " 3   Age              2000 non-null   int64\n",
      " 4   Education        2000 non-null   int64\n",
      " 5   Income           2000 non-null   int64\n",
      " 6   Occupation       2000 non-null   int64\n",
      " 7   Settlement size  2000 non-null   int64\n",
      "dtypes: int64(8)\n",
      "memory usage: 125.1 KB\n",
      "None\n"
     ]
    }
   ],
   "source": [
    "#structure of the dataset\n",
    "print(Sd.info())"
   ]
  },
  {
   "cell_type": "code",
   "execution_count": null,
   "metadata": {},
   "outputs": [],
   "source": []
  }
 ],
 "metadata": {
  "kernelspec": {
   "display_name": "base",
   "language": "python",
   "name": "python3"
  },
  "language_info": {
   "codemirror_mode": {
    "name": "ipython",
    "version": 3
   },
   "file_extension": ".py",
   "mimetype": "text/x-python",
   "name": "python",
   "nbconvert_exporter": "python",
   "pygments_lexer": "ipython3",
   "version": "3.12.4"
  }
 },
 "nbformat": 4,
 "nbformat_minor": 2
}
